{
  "cells": [
    {
      "cell_type": "markdown",
      "metadata": {
        "id": "3TynztWy5lT2"
      },
      "source": [
        "# Wstęp do NLP"
      ]
    },
    {
      "cell_type": "code",
      "execution_count": null,
      "metadata": {},
      "outputs": [],
      "source": [
        "! pip install gensim\n",
        "! pip install nltk"
      ]
    },
    {
      "cell_type": "code",
      "execution_count": null,
      "metadata": {
        "colab": {
          "base_uri": "https://localhost:8080/"
        },
        "id": "Whkmh2_d5lT4",
        "outputId": "6ccc26d5-4869-4c56-c088-dcfe3c2ef773"
      },
      "outputs": [],
      "source": [
        "from collections import OrderedDict\n",
        "\n",
        "import nltk\n",
        "import matplotlib.pyplot as plt\n",
        "import gensim.downloader as api\n",
        "import numpy as np\n",
        "\n",
        "nltk.download('brown')"
      ]
    },
    {
      "cell_type": "markdown",
      "metadata": {},
      "source": [
        "# Prawo Zipfa"
      ]
    },
    {
      "cell_type": "code",
      "execution_count": 3,
      "metadata": {},
      "outputs": [
        {
          "name": "stdout",
          "output_type": "stream",
          "text": [
            "The Fulton County Grand Jury said Friday an investigation of Atlanta's recent primary election produced `` no evidence '' that\n"
          ]
        }
      ],
      "source": [
        "words = nltk.corpus.brown.words()\n",
        "\n",
        "# print 20 first words from the brown corpus\n",
        "print(\" \".join(words[:20]))"
      ]
    },
    {
      "cell_type": "code",
      "execution_count": 4,
      "metadata": {},
      "outputs": [],
      "source": [
        "def has_alpha(pair):\n",
        "  \"\"\"Checks if the first element from in a pair contains an alphabethical char.\"\"\"\n",
        "  return any(c.isalpha() for c in pair[0])\n",
        "\n",
        "\n",
        "# Filter out non-alphabetic words\n",
        "words = list(filter(has_alpha, words))\n",
        "\n",
        "\n",
        "# get frequency tables of words, sorted by frequency\n",
        "words_freq = nltk.FreqDist(words).most_common()"
      ]
    },
    {
      "cell_type": "code",
      "execution_count": 5,
      "metadata": {},
      "outputs": [
        {
          "data": {
            "text/plain": [
              "[('the', 62713), ('of', 36080), ('and', 27915), ('to', 25732), ('a', 21881)]"
            ]
          },
          "execution_count": 5,
          "metadata": {},
          "output_type": "execute_result"
        }
      ],
      "source": [
        "words_freq[:5]"
      ]
    },
    {
      "cell_type": "code",
      "execution_count": 6,
      "metadata": {},
      "outputs": [
        {
          "data": {
            "image/png": "[encoded data removed]",
            "text/plain": [
              "<Figure size 640x480 with 1 Axes>"
            ]
          },
          "metadata": {},
          "output_type": "display_data"
        }
      ],
      "source": [
        "def plot_most_frequent(freq_list, n=100):\n",
        "    freqs = [freq for word, freq in freq_list[:n]]\n",
        "    plt.plot(list(range(n)), freqs, 1)\n",
        "    plt.xlabel('Rank')\n",
        "    plt.ylabel('Frequency')\n",
        "    plt.show()\n",
        "\n",
        "\n",
        "plot_most_frequent(words_freq)"
      ]
    },
    {
      "cell_type": "markdown",
      "metadata": {
        "id": "gk0zhzaE5lT6"
      },
      "source": [
        "# Najprostsze wektory słów"
      ]
    },
    {
      "cell_type": "code",
      "execution_count": 7,
      "metadata": {
        "id": "XBWbz3AM5lT7"
      },
      "outputs": [],
      "source": [
        "class OneHotEmbedding:\n",
        "    def __init__(self, brown_words):\n",
        "        self.brown_words = brown_words\n",
        "        self.unique_words = list(set(self.brown_words))\n",
        "        self.vocab_size = len(self.unique_words)\n",
        "        self.vocab = OrderedDict(zip(self.unique_words, range(self.vocab_size)))\n",
        "\n",
        "    def __call__(self, word):\n",
        "        if word not in self.vocab:\n",
        "            raise ValueError('Word not in vocabulary.')\n",
        "        emb = np.zeros(self.vocab_size)\n",
        "        emb[self.vocab[word]] = 1\n",
        "        return emb"
      ]
    },
    {
      "cell_type": "code",
      "execution_count": 8,
      "metadata": {
        "colab": {
          "base_uri": "https://localhost:8080/"
        },
        "id": "gslvJv965lT7",
        "outputId": "2c0ae41d-b51b-4306-e8a2-0295eaa49aa2"
      },
      "outputs": [
        {
          "name": "stdout",
          "output_type": "stream",
          "text": [
            "The            : [0. 0. 0. 0. 1. 0. 0. 0. 0. 0. 0. 0. 0. 0. 0. 0. 0. 0. 0. 0.]\n",
            "Fulton         : [0. 0. 0. 0. 0. 0. 0. 0. 0. 0. 0. 0. 0. 0. 0. 1. 0. 0. 0. 0.]\n",
            "County         : [0. 0. 0. 0. 0. 0. 0. 0. 0. 0. 0. 0. 0. 0. 0. 0. 0. 0. 1. 0.]\n",
            "Grand          : [0. 1. 0. 0. 0. 0. 0. 0. 0. 0. 0. 0. 0. 0. 0. 0. 0. 0. 0. 0.]\n",
            "Jury           : [0. 0. 0. 0. 0. 0. 0. 1. 0. 0. 0. 0. 0. 0. 0. 0. 0. 0. 0. 0.]\n",
            "said           : [0. 0. 0. 0. 0. 0. 0. 0. 0. 0. 0. 0. 0. 0. 0. 0. 0. 0. 0. 1.]\n",
            "Friday         : [0. 0. 0. 0. 0. 1. 0. 0. 0. 0. 0. 0. 0. 0. 0. 0. 0. 0. 0. 0.]\n",
            "an             : [0. 0. 0. 0. 0. 0. 0. 0. 1. 0. 0. 0. 0. 0. 0. 0. 0. 0. 0. 0.]\n",
            "investigation  : [1. 0. 0. 0. 0. 0. 0. 0. 0. 0. 0. 0. 0. 0. 0. 0. 0. 0. 0. 0.]\n",
            "of             : [0. 0. 0. 1. 0. 0. 0. 0. 0. 0. 0. 0. 0. 0. 0. 0. 0. 0. 0. 0.]\n",
            "Atlanta's      : [0. 0. 0. 0. 0. 0. 0. 0. 0. 0. 0. 0. 0. 0. 0. 0. 0. 1. 0. 0.]\n",
            "recent         : [0. 0. 0. 0. 0. 0. 0. 0. 0. 0. 0. 0. 0. 0. 0. 0. 1. 0. 0. 0.]\n",
            "primary        : [0. 0. 0. 0. 0. 0. 1. 0. 0. 0. 0. 0. 0. 0. 0. 0. 0. 0. 0. 0.]\n",
            "election       : [0. 0. 0. 0. 0. 0. 0. 0. 0. 1. 0. 0. 0. 0. 0. 0. 0. 0. 0. 0.]\n",
            "produced       : [0. 0. 0. 0. 0. 0. 0. 0. 0. 0. 0. 0. 1. 0. 0. 0. 0. 0. 0. 0.]\n",
            "no             : [0. 0. 0. 0. 0. 0. 0. 0. 0. 0. 0. 0. 0. 0. 1. 0. 0. 0. 0. 0.]\n",
            "evidence       : [0. 0. 0. 0. 0. 0. 0. 0. 0. 0. 0. 1. 0. 0. 0. 0. 0. 0. 0. 0.]\n",
            "that           : [0. 0. 0. 0. 0. 0. 0. 0. 0. 0. 1. 0. 0. 0. 0. 0. 0. 0. 0. 0.]\n",
            "any            : [0. 0. 1. 0. 0. 0. 0. 0. 0. 0. 0. 0. 0. 0. 0. 0. 0. 0. 0. 0.]\n",
            "irregularities : [0. 0. 0. 0. 0. 0. 0. 0. 0. 0. 0. 0. 0. 1. 0. 0. 0. 0. 0. 0.]\n"
          ]
        }
      ],
      "source": [
        "example_words = words[:20]\n",
        "embeddings = OneHotEmbedding(example_words)\n",
        "for word in example_words:\n",
        "    print(f'{word:<15}: {embeddings(word)}')"
      ]
    },
    {
      "cell_type": "markdown",
      "metadata": {},
      "source": [
        "# Wektory słów"
      ]
    },
    {
      "cell_type": "code",
      "execution_count": 9,
      "metadata": {},
      "outputs": [],
      "source": [
        "word_vectors = api.load(\"glove-wiki-gigaword-100\")"
      ]
    },
    {
      "cell_type": "code",
      "execution_count": 10,
      "metadata": {},
      "outputs": [
        {
          "data": {
            "text/plain": [
              "array([-0.34028  ,  0.46436  , -0.083324 ,  0.20186  , -0.17831  ,\n",
              "       -0.4663   ,  0.61793  ,  0.30129  ,  0.5728   , -0.34783  ,\n",
              "       -0.9216   ,  0.30484  ,  0.30382  ,  0.58035  ,  0.12112  ,\n",
              "        0.77288  ,  1.1547   , -0.576    ,  0.51471  ,  0.21552  ,\n",
              "        0.21106  ,  0.67875  ,  1.1962   ,  0.11142  ,  0.50809  ,\n",
              "        1.1873   ,  0.035288 , -0.88952  ,  0.042803 , -0.36714  ,\n",
              "        0.37993  ,  0.61945  ,  1.0194   , -0.95084  , -0.0072258,\n",
              "        0.69454  ,  0.38692  , -0.18544  ,  0.2885   , -0.81279  ,\n",
              "       -0.46473  , -0.82623  ,  0.42778  , -0.14064  ,  0.30173  ,\n",
              "        0.074418 , -0.40044  ,  0.33969  , -0.62917  , -0.054449 ,\n",
              "       -0.78469  ,  0.2354   , -0.78359  ,  0.74708  , -0.31074  ,\n",
              "       -0.07038  , -0.34623  ,  0.33849  ,  0.89621  ,  0.30288  ,\n",
              "        0.012978 ,  0.020869 , -0.14436  , -0.40914  ,  0.16651  ,\n",
              "       -0.88124  , -0.078419 ,  0.048156 ,  0.27032  , -0.81761  ,\n",
              "        0.027778 ,  0.62487  ,  0.1549   , -0.15838  ,  0.088675 ,\n",
              "        0.063411 , -0.14473  , -0.0066816, -0.18535  ,  1.5642   ,\n",
              "        0.3726   , -0.81706  , -0.021685 ,  0.91209  , -0.35784  ,\n",
              "       -0.98389  , -0.37103  , -0.10909  ,  0.18898  , -0.33884  ,\n",
              "       -0.058326 ,  0.41438  , -1.0411   , -0.42643  , -0.50664  ,\n",
              "       -0.75863  , -0.15815  , -0.1831   ,  0.7343   , -0.26852  ],\n",
              "      dtype=float32)"
            ]
          },
          "execution_count": 10,
          "metadata": {},
          "output_type": "execute_result"
        }
      ],
      "source": [
        "word_vectors['banana']"
      ]
    },
    {
      "cell_type": "code",
      "execution_count": 11,
      "metadata": {},
      "outputs": [
        {
          "data": {
            "text/plain": [
              "[('coconut', 0.7097253203392029),\n",
              " ('mango', 0.7054824829101562),\n",
              " ('bananas', 0.6887733340263367),\n",
              " ('potato', 0.6629636287689209),\n",
              " ('pineapple', 0.6534532308578491),\n",
              " ('fruit', 0.6519854664802551),\n",
              " ('peanut', 0.6420575976371765),\n",
              " ('pecan', 0.6349173188209534),\n",
              " ('cashew', 0.6294420957565308),\n",
              " ('papaya', 0.6246591210365295)]"
            ]
          },
          "execution_count": 11,
          "metadata": {},
          "output_type": "execute_result"
        }
      ],
      "source": [
        "word_vectors.most_similar('banana')"
      ]
    },
    {
      "cell_type": "code",
      "execution_count": 12,
      "metadata": {},
      "outputs": [
        {
          "name": "stdout",
          "output_type": "stream",
          "text": [
            "similarity(school, university): 0.7548451\n",
            "similarity(car, truck): 0.8597878\n",
            "similarity(table, phone): 0.34241307\n"
          ]
        }
      ],
      "source": [
        "def cosine_similarity(v1, v2):\n",
        "    return np.dot(v1, v2) / (np.linalg.norm(v1) * np.linalg.norm(v2))\n",
        "\n",
        "def print_cosine_similarity(word1, word2):\n",
        "    print(f\"similarity({word1}, {word2}):\", cosine_similarity(word_vectors[word1], word_vectors[word2]))\n",
        "\n",
        "\n",
        "print_cosine_similarity('school', 'university')\n",
        "print_cosine_similarity('car', 'truck')\n",
        "print_cosine_similarity('table', 'phone')"
      ]
    },
    {
      "cell_type": "code",
      "execution_count": 13,
      "metadata": {},
      "outputs": [
        {
          "name": "stdout",
          "output_type": "stream",
          "text": [
            "Synonyms of 'school': ['school', 'college', 'schools', 'elementary', 'students']\n"
          ]
        }
      ],
      "source": [
        "# Poniższą funkcję można wykonać dużo bardziej efektywnie za funkcji z biblioteki gensim.\n",
        "\n",
        "def knn(vec, k=5):\n",
        "    distances = [\n",
        "        (other_word, cosine_similarity(vec, word_vectors[other_word]))\n",
        "        for other_word in word_vectors.key_to_index.keys()\n",
        "    ]\n",
        "    distances.sort(key=lambda x: x[1], reverse=True)\n",
        "    return distances[:k]\n",
        "\n",
        "\n",
        "def print_synonyms(word):\n",
        "    res = knn(word_vectors[word])\n",
        "    print(f\"Synonyms of '{word}':\", [r for r, _ in res])\n",
        "\n",
        "\n",
        "print_synonyms('school')  # equivalent to word_vectors.most_similar('school')"
      ]
    },
    {
      "cell_type": "code",
      "execution_count": 14,
      "metadata": {},
      "outputs": [
        {
          "data": {
            "text/plain": [
              "[('head', 1.0),\n",
              " ('heads', 0.79870373),\n",
              " ('headed', 0.70127535),\n",
              " ('chief', 0.6871476),\n",
              " ('body', 0.68329155)]"
            ]
          },
          "execution_count": 14,
          "metadata": {},
          "output_type": "execute_result"
        }
      ],
      "source": [
        "# Zauważmy, że słowo 'head' ma wiele znaczeń, więc bywa używane w różnych kontekstach.\n",
        "# Stąd bliskość zarówno do \"body\" (jako część ciała), jak i \"chief\" (jako szef).\n",
        "\n",
        "knn(word_vectors['head'])"
      ]
    },
    {
      "cell_type": "code",
      "execution_count": 15,
      "metadata": {},
      "outputs": [
        {
          "name": "stdout",
          "output_type": "stream",
          "text": [
            "man -> king, woman -> [queen]\n",
            "poland -> warsaw, usa -> [d.c.]\n",
            "germany -> beer, france -> [wine]\n",
            "fall -> fell, swim -> [swam]\n"
          ]
        }
      ],
      "source": [
        "def analogy(word1, word2, word3):\n",
        "    vec = (word_vectors[word2] - word_vectors[word1] + word_vectors[word3]) / 3\n",
        "    res = knn(vec)\n",
        "\n",
        "    # remove tuples with word1, word2 and word3\n",
        "    res = [x for x in res if x[0] not in [word1, word2, word3]]\n",
        "    print(f'{word1} -> {word2}, {word3} -> [{res[0][0]}]')\n",
        "\n",
        "\n",
        "analogy('man', 'king', 'woman')\n",
        "analogy('poland', 'warsaw', 'usa')\n",
        "analogy('fall', 'fell', 'swim')"
      ]
    }
  ],
  "metadata": {
    "accelerator": "GPU",
    "colab": {
      "gpuType": "T4",
      "provenance": []
    },
    "kernelspec": {
      "display_name": "Python 3",
      "name": "python3"
    },
    "language_info": {
      "codemirror_mode": {
        "name": "ipython",
        "version": 3
      },
      "file_extension": ".py",
      "mimetype": "text/x-python",
      "name": "python",
      "nbconvert_exporter": "python",
      "pygments_lexer": "ipython3",
      "version": "3.12.3"
    }
  },
  "nbformat": 4,
  "nbformat_minor": 0
}
